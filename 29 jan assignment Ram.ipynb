{
 "cells": [
  {
   "cell_type": "code",
   "execution_count": 2,
   "id": "a616426f-f4e0-45e9-9be1-4cdf4294d337",
   "metadata": {},
   "outputs": [],
   "source": [
    "# 1.Python language is developed by a Dutch programmer Guido van Rossum in the Netherlands"
   ]
  },
  {
   "cell_type": "code",
   "execution_count": 3,
   "id": "86bcb919-9f1d-4b11-8768-50c8825cc386",
   "metadata": {},
   "outputs": [],
   "source": [
    "##2.Python is an interpreted programming language,supporting object-oriented,structured and functional programming."
   ]
  },
  {
   "cell_type": "code",
   "execution_count": 4,
   "id": "dddebb39-8469-4ece-9838-aa3969140242",
   "metadata": {},
   "outputs": [],
   "source": [
    "# 3.yes,python is a case sensitive language. it treat uppercase and lower case character differently. \n",
    "# Example:-var=1\n",
    "#          print(var)\n",
    "#          Var=2\n",
    "#          print(Var)   "
   ]
  },
  {
   "cell_type": "code",
   "execution_count": 5,
   "id": "bf6d2d6e-e2d0-4f1e-8360-8a8b23859578",
   "metadata": {},
   "outputs": [
    {
     "name": "stdout",
     "output_type": "stream",
     "text": [
      "1\n",
      "2\n"
     ]
    }
   ],
   "source": [
    "var=1\n",
    "print(var)\n",
    "Var=2\n",
    "print(Var) "
   ]
  },
  {
   "cell_type": "code",
   "execution_count": 6,
   "id": "c57f3bbd-f1f1-4bff-ba13-9f7bdfbc56b6",
   "metadata": {},
   "outputs": [],
   "source": [
    "# 4.(.py) is the correct extension of python file."
   ]
  },
  {
   "cell_type": "code",
   "execution_count": 7,
   "id": "d69e067a-44f7-429f-a979-e03388aa32d4",
   "metadata": {},
   "outputs": [],
   "source": [
    "# 5. python code is both compiled and interpreted ."
   ]
  },
  {
   "cell_type": "code",
   "execution_count": 8,
   "id": "ebcc6b92-c515-45f8-bd27-df1fffa2d925",
   "metadata": {},
   "outputs": [],
   "source": [
    "# 6.A Module , A Function Body , A Class Definition"
   ]
  },
  {
   "cell_type": "code",
   "execution_count": 9,
   "id": "56b3be34-f850-4355-a10e-923d0099568c",
   "metadata": {},
   "outputs": [],
   "source": [
    "# 7.To write single line comments in python use the HASH CHARACTER (#) at the beginning of the line."
   ]
  },
  {
   "cell_type": "code",
   "execution_count": 15,
   "id": "3f2003fd-a2a9-4e74-89ab-c21c7e6038b7",
   "metadata": {},
   "outputs": [],
   "source": [
    "# 8.The function Sys.version can help us to find the version of python that we are currently working on."
   ]
  },
  {
   "cell_type": "code",
   "execution_count": 16,
   "id": "391d1371-00c0-45de-ac51-1cdb5e8eb744",
   "metadata": {},
   "outputs": [
    {
     "name": "stdout",
     "output_type": "stream",
     "text": [
      "3.10.8 | packaged by conda-forge | (main, Nov 22 2022, 08:26:04) [GCC 10.4.0]\n"
     ]
    }
   ],
   "source": [
    "import sys\n",
    "print(sys.version)"
   ]
  },
  {
   "cell_type": "code",
   "execution_count": 17,
   "id": "0fbbc29c-f484-4819-acf2-8195e25d9367",
   "metadata": {},
   "outputs": [],
   "source": [
    "# 9.python supports the creation of anonymous function (funtion that are not bound to a name) at runtime, using a construct called LAMBDA."
   ]
  },
  {
   "cell_type": "code",
   "execution_count": 18,
   "id": "f1f50c70-2b72-4a3e-a48b-8fa9d8669335",
   "metadata": {},
   "outputs": [],
   "source": [
    "# 10.PIP stand for \"Preferred Installer program\""
   ]
  },
  {
   "cell_type": "code",
   "execution_count": 24,
   "id": "7ed40c51-5a04-41d7-9474-c46325796d82",
   "metadata": {},
   "outputs": [],
   "source": [
    "# 11.Type(),Print(),Range(),List(),Reversed(),Round(),Slice(),Set(),Slice(),Tuple() ----etc"
   ]
  },
  {
   "cell_type": "code",
   "execution_count": null,
   "id": "2527c247-98d9-4758-a417-1059707f1198",
   "metadata": {},
   "outputs": [],
   "source": [
    "# 12.Identifiers in python can be of any lenght . Show in below Example:-"
   ]
  },
  {
   "cell_type": "code",
   "execution_count": 22,
   "id": "49acc611-d785-4936-bd36-66a99c742cde",
   "metadata": {},
   "outputs": [],
   "source": [
    "aaaaaaaaaaaaaaaaaaaaaaaaaaaaaaaaaaaaaaaaaaaaaaaaaaaaaaaaaaaaaaaaaaaaaaaaaaaaaaaaaaaaaaaaaaaaaaaaaaaa=80"
   ]
  },
  {
   "cell_type": "code",
   "execution_count": 23,
   "id": "e36319d8-5fb7-436d-8611-49f735dfc59d",
   "metadata": {},
   "outputs": [
    {
     "data": {
      "text/plain": [
       "80"
      ]
     },
     "execution_count": 23,
     "metadata": {},
     "output_type": "execute_result"
    }
   ],
   "source": [
    "aaaaaaaaaaaaaaaaaaaaaaaaaaaaaaaaaaaaaaaaaaaaaaaaaaaaaaaaaaaaaaaaaaaaaaaaaaaaaaaaaaaaaaaaaaaaaaaaaaaa"
   ]
  },
  {
   "cell_type": "code",
   "execution_count": 25,
   "id": "d5d07e75-a4ba-4d1e-92a9-056b2b8a57dd",
   "metadata": {},
   "outputs": [],
   "source": [
    "# 13. Following are the Benefits of using Python Language.\n",
    "#     (a).Object Oriented Language.\n",
    "#     (b).High Level Language.\n",
    "#     (c).Extensive Support Libraries.\n",
    "#     (d).Dynamically Typed Language.\n",
    "#     (e).Self Type Language.\n",
    "#     (f).Presence of Third-Party Modules.\n",
    "#     (g).open source and Community Development .\n",
    "#     (h).Portable Across Operating System."
   ]
  },
  {
   "cell_type": "code",
   "execution_count": 26,
   "id": "ee89e3e5-b95a-4918-aa0c-8eca3df85a46",
   "metadata": {},
   "outputs": [],
   "source": [
    "# 14.Python uses its private Heap space to Manage the memory.Basically, all the object and data structure\n",
    "# are stored in the private heap. Even the Programmer( me and sudhanshu sir and anyone) can not access this private space as the \n",
    "# interpreter takes care of this space.Python also has an inbuilt garbage collector, which recycles all the unused memory \n",
    "# and frees the memory and make it available to the heap space."
   ]
  },
  {
   "cell_type": "code",
   "execution_count": 27,
   "id": "57ce8e0d-04dd-4d30-8f39-ab1ebe7ac9b7",
   "metadata": {},
   "outputs": [],
   "source": [
    "# 15.Install python from this link https://www.python.org/downloads/\n",
    "# Add Python to Windows Path\n",
    "# 1.First, we need to locate where the python is being installed after downloading it. Press WINDOWS key and search for “Python”.\n",
    "# you will get python softwer icon . In the right hand side you will see 3 or 6 option from\n",
    "# which you have to click on open file location.\n",
    "# 2.Click on open file location and you will be in a location where Python is installed, \n",
    "# Copy the location path from the top by clicking over it.\n",
    "# 3.Now, we have to add the above-copied path as a variable so that windows can recognize. \n",
    "# Search for “Environmental Variables”. you will get \"Edit the system environment variable\" then\n",
    "# Click on that.\n",
    "# 4.Now click the “Environmental Variables” button.\n",
    "# 5.There will be two categories namely “User” and “System”, we have to add it in Users, \n",
    "# click on New button in the User section. Now, add a Variable Name and Path which we copied previously \n",
    "# and click OK. That’s it, DONE!\n",
    "# 6.Check if the Environment variable is set or not\n",
    "# Now, after adding the Python to the Environment variable, let’s check if the Python is running anywhere in the windows or not. \n",
    "# To do this open CMD and type Python. If the environment variable is set then the Python command will run otherwise not."
   ]
  },
  {
   "cell_type": "code",
   "execution_count": null,
   "id": "58145fc9-af91-4951-83b5-b4267e6eb020",
   "metadata": {},
   "outputs": [],
   "source": [
    "# 16.python uses indentation to define block of code."
   ]
  }
 ],
 "metadata": {
  "kernelspec": {
   "display_name": "Python 3 (ipykernel)",
   "language": "python",
   "name": "python3"
  },
  "language_info": {
   "codemirror_mode": {
    "name": "ipython",
    "version": 3
   },
   "file_extension": ".py",
   "mimetype": "text/x-python",
   "name": "python",
   "nbconvert_exporter": "python",
   "pygments_lexer": "ipython3",
   "version": "3.10.8"
  }
 },
 "nbformat": 4,
 "nbformat_minor": 5
}
